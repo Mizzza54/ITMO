{
 "cells": [
  {
   "cell_type": "markdown",
   "id": "loose-emerald",
   "metadata": {},
   "source": [
    "# 1. ResolutionFailure: Your dependencies could not be resolved\n",
    "\n",
    "Найдите python пакет, имеющий зависимость от любого python пакета, использованного вами в первой лабораторной. Создайте свой пакет и установите его с конфликтующими зависимостями\n",
    "\n",
    "1. Создайте и [загрузите в pypi](https://betterscientificsoftware.github.io/python-for-hpc/tutorials/python-pypi-packaging/) свой пакет, проверьте, что его можно установить через pip\n",
    "1. Установите свой пакет с помощью pip\n",
    "1. Установите свой пакет в любую виртуальную среду\n",
    "1. Продемонстрируйте корректно работающие функции в своём python-пакете"
   ]
  },
  {
   "cell_type": "markdown",
   "id": "a449f930",
   "metadata": {
    "pycharm": {
     "name": "#%% md\n"
    }
   },
   "source": [
    "# Выполнение задания №1\n",
    "\n",
    "Я создал пакет `dalab2`. Он имеет следующую структуру:"
   ]
  },
  {
   "cell_type": "code",
   "execution_count": 1,
   "id": "8c440864",
   "metadata": {
    "collapsed": false,
    "jupyter": {
     "outputs_hidden": false
    },
    "pycharm": {
     "name": "#%%\n"
    }
   },
   "outputs": [
    {
     "name": "stdout",
     "output_type": "stream",
     "text": [
      "\u001b[01;34m./dalab2/dalab2/\u001b[00m\n",
      "├── LICENSE\n",
      "├── README.md\n",
      "├── \u001b[01;32msetup.py\u001b[00m\n",
      "├── \u001b[01;34msrc\u001b[00m\n",
      "│   └── \u001b[01;34mdalab2\u001b[00m\n",
      "└── \u001b[01;34mtest\u001b[00m\n",
      "\n",
      "3 directories, 3 files\n"
     ]
    }
   ],
   "source": [
    "!tree -L 2 ./dalab2/dalab2/"
   ]
  },
  {
   "cell_type": "code",
   "execution_count": 2,
   "id": "b05fa406",
   "metadata": {
    "collapsed": false,
    "jupyter": {
     "outputs_hidden": false
    },
    "pycharm": {
     "name": "#%%\n"
    }
   },
   "outputs": [
    {
     "name": "stdout",
     "output_type": "stream",
     "text": [
      "['cycler>=0.10', 'numpy>=1.16', 'python-dateutil>=2.7', 'pillow>=6.2.0', 'pyparsing>=2.2.1', 'kiwisolver>=1.0.1']\n"
     ]
    }
   ],
   "source": [
    "from pip._vendor import pkg_resources\n",
    "\n",
    "package_name = 'matplotlib'\n",
    "package = pkg_resources.working_set.by_key[package_name]\n",
    "\n",
    "print([str(r) for r in package.requires()])"
   ]
  },
  {
   "cell_type": "code",
   "execution_count": 3,
   "id": "855b7603",
   "metadata": {
    "collapsed": false,
    "jupyter": {
     "outputs_hidden": false
    },
    "pycharm": {
     "name": "#%%\n"
    }
   },
   "outputs": [
    {
     "name": "stdout",
     "output_type": "stream",
     "text": [
      "[0.01693699 0.17203535 0.33523585 0.54827667 0.63326646 0.23944945\n",
      " 0.26993502 0.81599502 0.34288166 0.06556415 0.80862649 0.00593474\n",
      " 0.10933484 0.14889915 0.81828048 0.65760477 0.79323887 0.91370441\n",
      " 0.49399825 0.65077546 0.55903605 0.4952814  0.76369093 0.92415574\n",
      " 0.53199132 0.48522533 0.74756369 0.90299108 0.53471802 0.83083659\n",
      " 0.09442988 0.40874917 0.70929659 0.74722429 0.02777199 0.36169786\n",
      " 0.0072378  0.53272535 0.11689861 0.42754445 0.33755222 0.80302308\n",
      " 0.49853956 0.40719417 0.00747218 0.61234358 0.65845311 0.81013783\n",
      " 0.13207468 0.8636026 ]\n"
     ]
    }
   ],
   "source": [
    "import numpy as np\n",
    "array = np.random.random(50)\n",
    "print(array)"
   ]
  },
  {
   "cell_type": "code",
   "execution_count": 4,
   "id": "a200b002",
   "metadata": {
    "collapsed": false,
    "jupyter": {
     "outputs_hidden": false
    },
    "pycharm": {
     "name": "#%%\n"
    }
   },
   "outputs": [
    {
     "name": "stdout",
     "output_type": "stream",
     "text": [
      "Requirement already satisfied: setuptools in /Library/Frameworks/Python.framework/Versions/3.8/lib/python3.8/site-packages (41.2.0)\n"
     ]
    }
   ],
   "source": [
    "!pip install setuptools"
   ]
  },
  {
   "cell_type": "code",
   "execution_count": 5,
   "id": "ad762cc4",
   "metadata": {
    "collapsed": false,
    "jupyter": {
     "outputs_hidden": false
    },
    "pycharm": {
     "name": "#%%\n"
    }
   },
   "outputs": [
    {
     "name": "stdout",
     "output_type": "stream",
     "text": [
      "Package                           Version\n",
      "--------------------------------- ---------\n",
      "anyio                             3.3.1\n",
      "appnope                           0.1.2\n",
      "argon2-cffi                       21.1.0\n",
      "attrs                             21.2.0\n",
      "Babel                             2.9.1\n",
      "backcall                          0.2.0\n",
      "backports.entry-points-selectable 1.1.0\n",
      "beautifulsoup4                    4.10.0\n",
      "bleach                            4.1.0\n",
      "bs4                               0.0.1\n",
      "certifi                           2021.5.30\n",
      "cffi                              1.14.6\n",
      "charset-normalizer                2.0.5\n",
      "click                             8.0.2\n",
      "colorama                          0.4.4\n",
      "cycler                            0.10.0\n",
      "debugpy                           1.4.3\n",
      "decorator                         5.1.0\n",
      "defusedxml                        0.7.1\n",
      "distlib                           0.3.3\n",
      "docutils                          0.17.1\n",
      "entrypoints                       0.3\n",
      "ffmpeg-python                     0.2.0\n",
      "filelock                          3.3.0\n",
      "future                            0.18.2\n",
      "html5lib                          1.1\n",
      "idna                              3.2\n",
      "importlib-metadata                4.8.1\n",
      "ipykernel                         6.4.1\n",
      "ipython                           7.27.0\n",
      "ipython-genutils                  0.2.0\n",
      "jedi                              0.18.0\n",
      "Jinja2                            3.0.1\n",
      "joblib                            1.0.1\n",
      "json5                             0.9.6\n",
      "jsonschema                        3.2.0\n",
      "jupyter-client                    7.0.3\n",
      "jupyter-core                      4.8.1\n",
      "jupyter-server                    1.11.0\n",
      "jupyterlab                        3.1.12\n",
      "jupyterlab-pygments               0.1.2\n",
      "jupyterlab-server                 2.8.1\n",
      "keyring                           23.2.1\n",
      "kiwisolver                        1.3.2\n",
      "lxml                              4.6.3\n",
      "MarkupSafe                        2.0.1\n",
      "matplotlib                        3.4.3\n",
      "matplotlib-inline                 0.1.3\n",
      "mistune                           0.8.4\n",
      "nbclassic                         0.3.2\n",
      "nbclient                          0.5.4\n",
      "nbconvert                         6.1.0\n",
      "nbformat                          5.1.3\n",
      "nest-asyncio                      1.5.1\n",
      "nltk                              3.6.3\n",
      "notebook                          6.4.4\n",
      "numpy                             1.21.2\n",
      "oauthlib                          3.1.1\n",
      "packaging                         21.0\n",
      "pandas                            1.3.3\n",
      "pandocfilters                     1.5.0\n",
      "parso                             0.8.2\n",
      "pexpect                           4.8.0\n",
      "pickleshare                       0.7.5\n",
      "Pillow                            8.3.2\n",
      "pip                               21.2.4\n",
      "pipdeptree                        2.1.0\n",
      "pkginfo                           1.7.1\n",
      "platformdirs                      2.4.0\n",
      "prometheus-client                 0.11.0\n",
      "prompt-toolkit                    3.0.20\n",
      "ptyprocess                        0.7.0\n",
      "pycparser                         2.20\n",
      "Pygments                          2.10.0\n",
      "pyparsing                         2.4.7\n",
      "pyrsistent                        0.18.0\n",
      "python-dateutil                   2.8.2\n",
      "pytz                              2021.1\n",
      "pyzmq                             22.3.0\n",
      "readme-renderer                   30.0\n",
      "regex                             2021.10.8\n",
      "requests                          2.26.0\n",
      "requests-oauthlib                 1.3.0\n",
      "requests-toolbelt                 0.9.1\n",
      "requests-unixsocket               0.2.0\n",
      "rfc3986                           1.5.0\n",
      "scikit-learn                      1.0\n",
      "scipy                             1.7.1\n",
      "seaborn                           0.11.2\n",
      "Send2Trash                        1.8.0\n",
      "setuptools                        41.2.0\n",
      "six                               1.16.0\n",
      "sniffio                           1.2.0\n",
      "soupsieve                         2.2.1\n",
      "terminado                         0.12.1\n",
      "testpath                          0.5.0\n",
      "textblob                          0.15.3\n",
      "threadpoolctl                     2.2.0\n",
      "tornado                           6.1\n",
      "tqdm                              4.62.3\n",
      "traitlets                         5.1.0\n",
      "tweepy                            4.1.0\n",
      "twine                             3.4.2\n",
      "urllib3                           1.26.6\n",
      "virtualenv                        20.8.1\n",
      "wcwidth                           0.2.5\n",
      "webencodings                      0.5.1\n",
      "websocket-client                  1.2.1\n",
      "wheel                             0.37.0\n",
      "zipp                              3.6.0\n",
      "\u001b[33mWARNING: Package(s) not found: dalab2\u001b[0m\n"
     ]
    }
   ],
   "source": [
    "!pip list\n",
    "!pip show dalab2"
   ]
  },
  {
   "cell_type": "code",
   "execution_count": 6,
   "id": "b389b6f4",
   "metadata": {
    "collapsed": false,
    "jupyter": {
     "outputs_hidden": false
    },
    "pycharm": {
     "name": "#%%\n"
    }
   },
   "outputs": [
    {
     "name": "stdout",
     "output_type": "stream",
     "text": [
      "/Users/michael/Desktop/pythonProject\n",
      "Processing ./dalab2/dalab2\n",
      "\u001b[33m  DEPRECATION: A future pip version will change local packages to be built in-place without first copying to a temporary directory. We recommend you use --use-feature=in-tree-build to test your packages with this new behavior before it becomes the default.\n",
      "   pip 21.3 will remove support for this functionality. You can find discussion regarding this at https://github.com/pypa/pip/issues/7555.\u001b[0m\n",
      "Requirement already satisfied: numpy in /Library/Frameworks/Python.framework/Versions/3.8/lib/python3.8/site-packages (from dalab2==0.0.1a0) (1.21.2)\n",
      "Requirement already satisfied: matplotlib in /Library/Frameworks/Python.framework/Versions/3.8/lib/python3.8/site-packages (from dalab2==0.0.1a0) (3.4.3)\n",
      "Requirement already satisfied: pyparsing>=2.2.1 in /Library/Frameworks/Python.framework/Versions/3.8/lib/python3.8/site-packages (from matplotlib->dalab2==0.0.1a0) (2.4.7)\n",
      "Requirement already satisfied: pillow>=6.2.0 in /Library/Frameworks/Python.framework/Versions/3.8/lib/python3.8/site-packages (from matplotlib->dalab2==0.0.1a0) (8.3.2)\n",
      "Requirement already satisfied: python-dateutil>=2.7 in /Library/Frameworks/Python.framework/Versions/3.8/lib/python3.8/site-packages (from matplotlib->dalab2==0.0.1a0) (2.8.2)\n",
      "Requirement already satisfied: kiwisolver>=1.0.1 in /Library/Frameworks/Python.framework/Versions/3.8/lib/python3.8/site-packages (from matplotlib->dalab2==0.0.1a0) (1.3.2)\n",
      "Requirement already satisfied: cycler>=0.10 in /Library/Frameworks/Python.framework/Versions/3.8/lib/python3.8/site-packages (from matplotlib->dalab2==0.0.1a0) (0.10.0)\n",
      "Requirement already satisfied: six in /Library/Frameworks/Python.framework/Versions/3.8/lib/python3.8/site-packages (from cycler>=0.10->matplotlib->dalab2==0.0.1a0) (1.16.0)\n",
      "Building wheels for collected packages: dalab2\n",
      "  Building wheel for dalab2 (setup.py) ... \u001b[?25ldone\n",
      "\u001b[?25h  Created wheel for dalab2: filename=dalab2-0.0.1a0-py3-none-any.whl size=14856 sha256=246583d6438caae4dcec21215c3663ef8086775592159b353c83b6bb951474e4\n",
      "  Stored in directory: /private/var/folders/67/j_7v5yh94dlc9zwgh4x6x53w0000gn/T/pip-ephem-wheel-cache-rmw3jo84/wheels/d4/7f/3b/0b9f0a1b4a95eebf059baa1e7f75901ce5437ae11a4b188977\n",
      "Successfully built dalab2\n",
      "Installing collected packages: dalab2\n",
      "Successfully installed dalab2-0.0.1a0\n",
      "Package                           Version\n",
      "--------------------------------- ---------\n",
      "anyio                             3.3.1\n",
      "appnope                           0.1.2\n",
      "argon2-cffi                       21.1.0\n",
      "attrs                             21.2.0\n",
      "Babel                             2.9.1\n",
      "backcall                          0.2.0\n",
      "backports.entry-points-selectable 1.1.0\n",
      "beautifulsoup4                    4.10.0\n",
      "bleach                            4.1.0\n",
      "bs4                               0.0.1\n",
      "certifi                           2021.5.30\n",
      "cffi                              1.14.6\n",
      "charset-normalizer                2.0.5\n",
      "click                             8.0.2\n",
      "colorama                          0.4.4\n",
      "cycler                            0.10.0\n",
      "dalab2                            0.0.1a0\n",
      "debugpy                           1.4.3\n",
      "decorator                         5.1.0\n",
      "defusedxml                        0.7.1\n",
      "distlib                           0.3.3\n",
      "docutils                          0.17.1\n",
      "entrypoints                       0.3\n",
      "ffmpeg-python                     0.2.0\n",
      "filelock                          3.3.0\n",
      "future                            0.18.2\n",
      "html5lib                          1.1\n",
      "idna                              3.2\n",
      "importlib-metadata                4.8.1\n",
      "ipykernel                         6.4.1\n",
      "ipython                           7.27.0\n",
      "ipython-genutils                  0.2.0\n",
      "jedi                              0.18.0\n",
      "Jinja2                            3.0.1\n",
      "joblib                            1.0.1\n",
      "json5                             0.9.6\n",
      "jsonschema                        3.2.0\n",
      "jupyter-client                    7.0.3\n",
      "jupyter-core                      4.8.1\n",
      "jupyter-server                    1.11.0\n",
      "jupyterlab                        3.1.12\n",
      "jupyterlab-pygments               0.1.2\n",
      "jupyterlab-server                 2.8.1\n",
      "keyring                           23.2.1\n",
      "kiwisolver                        1.3.2\n",
      "lxml                              4.6.3\n",
      "MarkupSafe                        2.0.1\n",
      "matplotlib                        3.4.3\n",
      "matplotlib-inline                 0.1.3\n",
      "mistune                           0.8.4\n",
      "nbclassic                         0.3.2\n",
      "nbclient                          0.5.4\n",
      "nbconvert                         6.1.0\n",
      "nbformat                          5.1.3\n",
      "nest-asyncio                      1.5.1\n",
      "nltk                              3.6.3\n",
      "notebook                          6.4.4\n",
      "numpy                             1.21.2\n",
      "oauthlib                          3.1.1\n",
      "packaging                         21.0\n",
      "pandas                            1.3.3\n",
      "pandocfilters                     1.5.0\n",
      "parso                             0.8.2\n",
      "pexpect                           4.8.0\n",
      "pickleshare                       0.7.5\n",
      "Pillow                            8.3.2\n",
      "pip                               21.2.4\n",
      "pipdeptree                        2.1.0\n",
      "pkginfo                           1.7.1\n",
      "platformdirs                      2.4.0\n",
      "prometheus-client                 0.11.0\n",
      "prompt-toolkit                    3.0.20\n",
      "ptyprocess                        0.7.0\n",
      "pycparser                         2.20\n",
      "Pygments                          2.10.0\n",
      "pyparsing                         2.4.7\n",
      "pyrsistent                        0.18.0\n",
      "python-dateutil                   2.8.2\n",
      "pytz                              2021.1\n",
      "pyzmq                             22.3.0\n",
      "readme-renderer                   30.0\n",
      "regex                             2021.10.8\n",
      "requests                          2.26.0\n",
      "requests-oauthlib                 1.3.0\n",
      "requests-toolbelt                 0.9.1\n",
      "requests-unixsocket               0.2.0\n",
      "rfc3986                           1.5.0\n",
      "scikit-learn                      1.0\n",
      "scipy                             1.7.1\n",
      "seaborn                           0.11.2\n",
      "Send2Trash                        1.8.0\n",
      "setuptools                        41.2.0\n",
      "six                               1.16.0\n",
      "sniffio                           1.2.0\n",
      "soupsieve                         2.2.1\n",
      "terminado                         0.12.1\n",
      "testpath                          0.5.0\n",
      "textblob                          0.15.3\n",
      "threadpoolctl                     2.2.0\n",
      "tornado                           6.1\n",
      "tqdm                              4.62.3\n",
      "traitlets                         5.1.0\n",
      "tweepy                            4.1.0\n",
      "twine                             3.4.2\n",
      "urllib3                           1.26.6\n",
      "virtualenv                        20.8.1\n",
      "wcwidth                           0.2.5\n",
      "webencodings                      0.5.1\n",
      "websocket-client                  1.2.1\n",
      "wheel                             0.37.0\n",
      "zipp                              3.6.0\n",
      "Name: dalab2\n",
      "Version: 0.0.1a0\n",
      "Summary: A example Python package\n",
      "Home-page: https://github.com/Mizzza54/dalab2\n",
      "Author: Michael Gerasimov\n",
      "Author-email: gerasimov.misha2001@gmail.com\n",
      "License: License :: OSI Approved :: GNU General Public License v3 (GPLv3)\n",
      "Location: /Library/Frameworks/Python.framework/Versions/3.8/lib/python3.8/site-packages\n",
      "Requires: matplotlib, numpy\n",
      "Required-by: \n"
     ]
    }
   ],
   "source": [
    "!pwd\n",
    "!pip install ./dalab2/dalab2\n",
    "!pip list\n",
    "!pip show dalab2"
   ]
  },
  {
   "cell_type": "code",
   "execution_count": 7,
   "id": "23cc455e",
   "metadata": {
    "collapsed": false,
    "jupyter": {
     "outputs_hidden": false
    },
    "pycharm": {
     "name": "#%%\n"
    }
   },
   "outputs": [
    {
     "name": "stdout",
     "output_type": "stream",
     "text": [
      "0.0.1-alpha\n",
      "Michael Gerasimov\n",
      "Hello world!\n",
      "Kek world!\n",
      "Goodbye world\n"
     ]
    },
    {
     "data": {
      "image/png": "[encoded data removed]",
      "text/plain": [
       "<Figure size 432x288 with 1 Axes>"
      ]
     },
     "metadata": {
      "needs_background": "light"
     },
     "output_type": "display_data"
    },
    {
     "name": "stdout",
     "output_type": "stream",
     "text": [
      "Значения колонок: [4, 1, 0, 1, 1, 1, 2, 1, 0, 1, 0, 0, 1, 0, 1, 0, 0, 1, 2, 1, 0, 2, 1, 0, 0, 0, 4, 0, 3, 1, 1, 0, 0, 1, 1, 3, 0, 0, 1, 0, 2, 1, 1, 3, 3, 0, 1, 0, 1, 2]\n",
      "Названия колонок: [0.00593474 0.02429916 0.04266358 0.061028   0.07939242 0.09775684\n",
      " 0.11612126 0.13448568 0.1528501  0.17121452 0.18957894 0.20794336\n",
      " 0.22630778 0.2446722  0.26303662 0.28140104 0.29976546 0.31812988\n",
      " 0.3364943  0.35485872 0.37322314 0.39158756 0.40995198 0.4283164\n",
      " 0.44668082 0.46504524 0.48340966 0.50177408 0.5201385  0.53850292\n",
      " 0.55686734 0.57523176 0.59359618 0.6119606  0.63032502 0.64868944\n",
      " 0.66705386 0.68541828 0.7037827  0.72214712 0.74051154 0.75887596\n",
      " 0.77724038 0.7956048  0.81396922 0.83233364 0.85069806 0.86906248\n",
      " 0.8874269  0.90579132 0.92415574]\n"
     ]
    }
   ],
   "source": [
    "import dalab2\n",
    "print(dalab2.__version__)\n",
    "print(dalab2.__author__)\n",
    "\n",
    "from dalab2 import module1\n",
    "module1.hello()\n",
    "module1.kek()\n",
    "module1.bye()\n",
    "\n",
    "from dalab2 import module2\n",
    "module2.draw(array)"
   ]
  },
  {
   "cell_type": "markdown",
   "id": "3cae039d",
   "metadata": {
    "pycharm": {
     "name": "#%% md\n"
    }
   },
   "source": [
    "Удаляем нап пакет с помощью `pip uninstall dalab2`"
   ]
  },
  {
   "cell_type": "code",
   "execution_count": 8,
   "id": "cd1a8a98",
   "metadata": {
    "collapsed": false,
    "jupyter": {
     "outputs_hidden": false
    },
    "pycharm": {
     "name": "#%%\n"
    }
   },
   "outputs": [
    {
     "name": "stdout",
     "output_type": "stream",
     "text": [
      "Package                           Version\n",
      "--------------------------------- ---------\n",
      "anyio                             3.3.1\n",
      "appnope                           0.1.2\n",
      "argon2-cffi                       21.1.0\n",
      "attrs                             21.2.0\n",
      "Babel                             2.9.1\n",
      "backcall                          0.2.0\n",
      "backports.entry-points-selectable 1.1.0\n",
      "beautifulsoup4                    4.10.0\n",
      "bleach                            4.1.0\n",
      "bs4                               0.0.1\n",
      "certifi                           2021.5.30\n",
      "cffi                              1.14.6\n",
      "charset-normalizer                2.0.5\n",
      "click                             8.0.2\n",
      "colorama                          0.4.4\n",
      "cycler                            0.10.0\n",
      "debugpy                           1.4.3\n",
      "decorator                         5.1.0\n",
      "defusedxml                        0.7.1\n",
      "distlib                           0.3.3\n",
      "docutils                          0.17.1\n",
      "entrypoints                       0.3\n",
      "ffmpeg-python                     0.2.0\n",
      "filelock                          3.3.0\n",
      "future                            0.18.2\n",
      "html5lib                          1.1\n",
      "idna                              3.2\n",
      "importlib-metadata                4.8.1\n",
      "ipykernel                         6.4.1\n",
      "ipython                           7.27.0\n",
      "ipython-genutils                  0.2.0\n",
      "jedi                              0.18.0\n",
      "Jinja2                            3.0.1\n",
      "joblib                            1.0.1\n",
      "json5                             0.9.6\n",
      "jsonschema                        3.2.0\n",
      "jupyter-client                    7.0.3\n",
      "jupyter-core                      4.8.1\n",
      "jupyter-server                    1.11.0\n",
      "jupyterlab                        3.1.12\n",
      "jupyterlab-pygments               0.1.2\n",
      "jupyterlab-server                 2.8.1\n",
      "keyring                           23.2.1\n",
      "kiwisolver                        1.3.2\n",
      "lxml                              4.6.3\n",
      "MarkupSafe                        2.0.1\n",
      "matplotlib                        3.4.3\n",
      "matplotlib-inline                 0.1.3\n",
      "mistune                           0.8.4\n",
      "nbclassic                         0.3.2\n",
      "nbclient                          0.5.4\n",
      "nbconvert                         6.1.0\n",
      "nbformat                          5.1.3\n",
      "nest-asyncio                      1.5.1\n",
      "nltk                              3.6.3\n",
      "notebook                          6.4.4\n",
      "numpy                             1.21.2\n",
      "oauthlib                          3.1.1\n",
      "packaging                         21.0\n",
      "pandas                            1.3.3\n",
      "pandocfilters                     1.5.0\n",
      "parso                             0.8.2\n",
      "pexpect                           4.8.0\n",
      "pickleshare                       0.7.5\n",
      "Pillow                            8.3.2\n",
      "pip                               21.2.4\n",
      "pipdeptree                        2.1.0\n",
      "pkginfo                           1.7.1\n",
      "platformdirs                      2.4.0\n",
      "prometheus-client                 0.11.0\n",
      "prompt-toolkit                    3.0.20\n",
      "ptyprocess                        0.7.0\n",
      "pycparser                         2.20\n",
      "Pygments                          2.10.0\n",
      "pyparsing                         2.4.7\n",
      "pyrsistent                        0.18.0\n",
      "python-dateutil                   2.8.2\n",
      "pytz                              2021.1\n",
      "pyzmq                             22.3.0\n",
      "readme-renderer                   30.0\n",
      "regex                             2021.10.8\n",
      "requests                          2.26.0\n",
      "requests-oauthlib                 1.3.0\n",
      "requests-toolbelt                 0.9.1\n",
      "requests-unixsocket               0.2.0\n",
      "rfc3986                           1.5.0\n",
      "scikit-learn                      1.0\n",
      "scipy                             1.7.1\n",
      "seaborn                           0.11.2\n",
      "Send2Trash                        1.8.0\n",
      "setuptools                        41.2.0\n",
      "six                               1.16.0\n",
      "sniffio                           1.2.0\n",
      "soupsieve                         2.2.1\n",
      "terminado                         0.12.1\n",
      "testpath                          0.5.0\n",
      "textblob                          0.15.3\n",
      "threadpoolctl                     2.2.0\n",
      "tornado                           6.1\n",
      "tqdm                              4.62.3\n",
      "traitlets                         5.1.0\n",
      "tweepy                            4.1.0\n",
      "twine                             3.4.2\n",
      "urllib3                           1.26.6\n",
      "virtualenv                        20.8.1\n",
      "wcwidth                           0.2.5\n",
      "webencodings                      0.5.1\n",
      "websocket-client                  1.2.1\n",
      "wheel                             0.37.0\n",
      "zipp                              3.6.0\n",
      "\u001b[33mWARNING: Package(s) not found: dalab2\u001b[0m\n"
     ]
    }
   ],
   "source": [
    "!pip list\n",
    "!pip show dalab2"
   ]
  },
  {
   "cell_type": "markdown",
   "id": "b711af58",
   "metadata": {
    "pycharm": {
     "name": "#%% md\n"
    }
   },
   "source": [
    "* Теперь я хочу создать дистрибутив и загрузить в PyPi.\n",
    "* Сначала проверяем файл с помощью `python setup.py check`.\n",
    "* Потом создаем дистрибутив с помощью  `python setup.py sdist`\n",
    "* После чего загружаем в test.pypi: `twine upload --repository-url https://test.pypi.org/legacy/ dist/*`\n",
    "* Загрузка в pypi: `twine upload dist/*`\n",
    "* Теперь пробуем установить наш пакет: `pip install dalab2`"
   ]
  },
  {
   "cell_type": "code",
   "execution_count": null,
   "id": "1656f461",
   "metadata": {
    "collapsed": false,
    "jupyter": {
     "outputs_hidden": false
    },
    "pycharm": {
     "name": "#%%\n"
    }
   },
   "outputs": [],
   "source": [
    "!pip install dalab2"
   ]
  },
  {
   "cell_type": "code",
   "execution_count": null,
   "id": "0d037aff",
   "metadata": {
    "collapsed": false,
    "jupyter": {
     "outputs_hidden": false
    },
    "pycharm": {
     "name": "#%%\n"
    }
   },
   "outputs": [],
   "source": [
    "!pip list\n",
    "!pip show dalab2"
   ]
  },
  {
   "cell_type": "code",
   "execution_count": null,
   "id": "355a2062",
   "metadata": {
    "collapsed": false,
    "jupyter": {
     "outputs_hidden": false
    },
    "pycharm": {
     "name": "#%%\n"
    }
   },
   "outputs": [],
   "source": [
    "import dalab2\n",
    "print(dalab2.__version__)\n",
    "print(dalab2.__author__)\n",
    "\n",
    "from dalab2 import module1\n",
    "module1.hello()\n",
    "module1.kek()\n",
    "module1.bye()\n",
    "\n",
    "from dalab2 import module2\n",
    "module2.draw(array)"
   ]
  },
  {
   "cell_type": "markdown",
   "id": "3282779c",
   "metadata": {
    "pycharm": {
     "name": "#%% md\n"
    }
   },
   "source": [
    "Надо не забыть удалить: `pip install dalab2`\n",
    "\n",
    "Теперь проверим наш модуль в виртуальной среде.\n",
    "\n",
    "* Создание виртуальной среды: `python3 -m venv env`\n",
    "* Активация виртуальной среды: `source env/bin/activate`\n",
    "* Проверка, какой средой мы сейчас пользуемся: `which python`\n",
    "* Выход из виртуальной среды: `deactivate`\n",
    "\n",
    "Пакеты в виртуальную среду можно загружать разными способами, я буду загружать из локальных архивов: `python3 -m pip install dalab.tar.gz`"
   ]
  },
  {
   "cell_type": "markdown",
   "id": "c9cf5043",
   "metadata": {
    "pycharm": {
     "name": "#%% md\n"
    }
   },
   "source": [
    "Далее надо тестить функции ручками, потому что Notebook не видит venv =("
   ]
  },
  {
   "cell_type": "markdown",
   "id": "animated-fight",
   "metadata": {},
   "source": [
    "# 2. Да кто так пишет?!\n",
    "\n",
    "Возьмите произвольный дипломный проект по машинному обучению. Для этого скорее всего будет достаточно найти на github проекты по запросу \"machine learning thesis\" и профильтровать по языку \"Jupyter Notebook\". С большой вероятностью код случайно выбранного диплома в этой сфере будет ужасным. Приведите код в порядок:\n",
    "\n",
    "- вынесите занимающий место функционал в python модули\n",
    "- напишите аннотации типов для функций\n",
    "- добавьте конфиги для параметров\n",
    "- если это не требует углубления в логику дипломной работы, расставьте порядок запуска ноутбуков и/или скриптов\n",
    "- для случайных процессов зафиксируйте seed\n",
    "- выделите зависимости, создайте pipenv файлы\n",
    "- сделайте пулреквест автору: покажите своё культурное превосходство\n",
    "\n",
    "\n",
    "Выберите такой проект, который:\n",
    "- ещё не был выбран вашими одногруппниками\n",
    "- относительно небольшой по количеству файлов. Не стоит тратить много времени на это задание\n",
    "- содержит как минимум половину грехов из списка исправлений выше"
   ]
  },
  {
   "cell_type": "markdown",
   "id": "abc5d6cf",
   "metadata": {
    "pycharm": {
     "name": "#%% md\n"
    }
   },
   "source": [
    "# Выполнение задания №2\n"
   ]
  },
  {
   "cell_type": "markdown",
   "id": "alive-armor",
   "metadata": {},
   "source": [
    "# 3. Press Shift+Enter to get 300k/sec salary\n",
    "\n",
    "Выберите произвольный Google Colab notebook из этого крутого [репозитория](https://github.com/amrzv/awesome-colab-notebooks), запустите и примените к своим данным"
   ]
  },
  {
   "cell_type": "markdown",
   "id": "geographic-group",
   "metadata": {
    "pycharm": {
     "name": "#%% md\n"
    }
   },
   "source": [
    "# Выполнение задания №3\n",
    "\n",
    "Я выбрал [Big Sleep](https://github.com/amrzv/awesome-colab-notebooks#:~:text=25.03.2021-,Big%20Sleep,-Text%20to%20image)\n"
   ]
  }
 ],
 "metadata": {
  "kernelspec": {
   "display_name": "Python 3 (ipykernel)",
   "language": "python",
   "name": "python3"
  },
  "language_info": {
   "codemirror_mode": {
    "name": "ipython",
    "version": 3
   },
   "file_extension": ".py",
   "mimetype": "text/x-python",
   "name": "python",
   "nbconvert_exporter": "python",
   "pygments_lexer": "ipython3",
   "version": "3.8.1"
  }
 },
 "nbformat": 4,
 "nbformat_minor": 5
}
