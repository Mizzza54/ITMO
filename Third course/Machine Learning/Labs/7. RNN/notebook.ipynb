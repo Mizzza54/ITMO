{
 "cells": [
  {
   "cell_type": "code",
   "execution_count": 1,
   "metadata": {
    "collapsed": true,
    "pycharm": {
     "name": "#%%\n"
    }
   },
   "outputs": [],
   "source": [
    "import re\n",
    "\n",
    "import numpy as np\n",
    "import keras\n",
    "from keras.layers import Dense, Dropout, LSTM\n",
    "from collections import defaultdict"
   ]
  },
  {
   "cell_type": "code",
   "execution_count": 2,
   "outputs": [],
   "source": [
    "text = open('./data/raw/text.txt', 'r', encoding='utf-8').read()\n",
    "text = text.lower()\n",
    "text = re.sub(r'[^a-zа-я\\s.]+', '', text)\n",
    "text = re.sub(r'\\s+', ' ', text)"
   ],
   "metadata": {
    "collapsed": false,
    "pycharm": {
     "name": "#%%\n"
    }
   }
  },
  {
   "cell_type": "code",
   "execution_count": 3,
   "outputs": [],
   "source": [
    "chars = sorted(list(set(text)))\n",
    "char2int = dict()\n",
    "int2char = dict()\n",
    "\n",
    "for i, c in enumerate(chars):\n",
    "    char2int[c] = i\n",
    "    int2char[i] = c"
   ],
   "metadata": {
    "collapsed": false,
    "pycharm": {
     "name": "#%%\n"
    }
   }
  },
  {
   "cell_type": "code",
   "execution_count": 4,
   "outputs": [],
   "source": [
    "window_length = 25\n",
    "dataX = []\n",
    "dataY = []\n",
    "for sentence in text.split('.'):\n",
    "  sentence += '.'\n",
    "  for i in range(0, len(sentence) - window_length):\n",
    "    dataX.append(sentence[i:i + window_length])\n",
    "    dataY.append(sentence[i + window_length])"
   ],
   "metadata": {
    "collapsed": false,
    "pycharm": {
     "name": "#%%\n"
    }
   }
  },
  {
   "cell_type": "code",
   "execution_count": 5,
   "outputs": [],
   "source": [
    "n_sentences = len(dataX)\n",
    "X = np.zeros((n_sentences, window_length, len(chars)), dtype=np.bool_)\n",
    "y = np.zeros((n_sentences, len(chars)), dtype=np.bool_)\n",
    "for i, sentence in enumerate(dataX):\n",
    "    for j, char in enumerate(sentence):\n",
    "        X[i, j, char2int[char]] = True\n",
    "    y[i, char2int[dataY[i]]] = True"
   ],
   "metadata": {
    "collapsed": false,
    "pycharm": {
     "name": "#%%\n"
    }
   }
  },
  {
   "cell_type": "code",
   "execution_count": 6,
   "outputs": [
    {
     "name": "stderr",
     "output_type": "stream",
     "text": [
      "2022-05-18 13:59:32.043154: I tensorflow/core/platform/cpu_feature_guard.cc:151] This TensorFlow binary is optimized with oneAPI Deep Neural Network Library (oneDNN) to use the following CPU instructions in performance-critical operations:  AVX2 FMA\n",
      "To enable them in other operations, rebuild TensorFlow with the appropriate compiler flags.\n"
     ]
    },
    {
     "name": "stdout",
     "output_type": "stream",
     "text": [
      "Epoch 1/40\n",
      "85/85 [==============================] - 23s 220ms/step - loss: 3.2586\n",
      "Epoch 2/40\n",
      "85/85 [==============================] - 19s 224ms/step - loss: 3.1671\n",
      "Epoch 3/40\n",
      "85/85 [==============================] - 20s 234ms/step - loss: 3.0236\n",
      "Epoch 4/40\n",
      "85/85 [==============================] - 21s 252ms/step - loss: 2.7357\n",
      "Epoch 5/40\n",
      "85/85 [==============================] - 24s 287ms/step - loss: 2.4440\n",
      "Epoch 6/40\n",
      "85/85 [==============================] - 28s 333ms/step - loss: 2.2352\n",
      "Epoch 7/40\n",
      "85/85 [==============================] - 27s 313ms/step - loss: 2.0863\n",
      "Epoch 8/40\n",
      "85/85 [==============================] - 22s 261ms/step - loss: 1.9880\n",
      "Epoch 9/40\n",
      "85/85 [==============================] - 23s 268ms/step - loss: 1.9055\n",
      "Epoch 10/40\n",
      "85/85 [==============================] - 23s 266ms/step - loss: 1.8251\n",
      "Epoch 11/40\n",
      "85/85 [==============================] - 23s 264ms/step - loss: 1.7476\n",
      "Epoch 12/40\n",
      "85/85 [==============================] - 19s 223ms/step - loss: 1.6918\n",
      "Epoch 13/40\n",
      "85/85 [==============================] - 21s 249ms/step - loss: 1.6098\n",
      "Epoch 14/40\n",
      "85/85 [==============================] - 21s 251ms/step - loss: 1.5488\n",
      "Epoch 15/40\n",
      "85/85 [==============================] - 22s 260ms/step - loss: 1.4739\n",
      "Epoch 16/40\n",
      "85/85 [==============================] - 25s 297ms/step - loss: 1.4046\n",
      "Epoch 17/40\n",
      "85/85 [==============================] - 28s 331ms/step - loss: 1.3235\n",
      "Epoch 18/40\n",
      "85/85 [==============================] - 23s 274ms/step - loss: 1.2620\n",
      "Epoch 19/40\n",
      "85/85 [==============================] - 22s 265ms/step - loss: 1.1766\n",
      "Epoch 20/40\n",
      "85/85 [==============================] - 20s 239ms/step - loss: 1.0996\n",
      "Epoch 21/40\n",
      "85/85 [==============================] - 21s 247ms/step - loss: 1.0234\n",
      "Epoch 22/40\n",
      "85/85 [==============================] - 23s 272ms/step - loss: 0.9318\n",
      "Epoch 23/40\n",
      "85/85 [==============================] - 24s 286ms/step - loss: 0.8564\n",
      "Epoch 24/40\n",
      "85/85 [==============================] - 22s 261ms/step - loss: 0.7615\n",
      "Epoch 25/40\n",
      "85/85 [==============================] - 23s 269ms/step - loss: 0.6875\n",
      "Epoch 26/40\n",
      "85/85 [==============================] - 24s 281ms/step - loss: 0.6114\n",
      "Epoch 27/40\n",
      "85/85 [==============================] - 20s 232ms/step - loss: 0.5295\n",
      "Epoch 28/40\n",
      "85/85 [==============================] - 22s 255ms/step - loss: 0.4489\n",
      "Epoch 29/40\n",
      "85/85 [==============================] - 20s 235ms/step - loss: 0.3897\n",
      "Epoch 30/40\n",
      "85/85 [==============================] - 25s 289ms/step - loss: 0.3435\n",
      "Epoch 31/40\n",
      "85/85 [==============================] - 27s 319ms/step - loss: 0.2882\n",
      "Epoch 32/40\n",
      "85/85 [==============================] - 21s 247ms/step - loss: 0.2448\n",
      "Epoch 33/40\n",
      "85/85 [==============================] - 20s 238ms/step - loss: 0.2072\n",
      "Epoch 34/40\n",
      "85/85 [==============================] - 21s 244ms/step - loss: 0.1661\n",
      "Epoch 35/40\n",
      "85/85 [==============================] - 23s 266ms/step - loss: 0.1324\n",
      "Epoch 36/40\n",
      "85/85 [==============================] - 23s 275ms/step - loss: 0.1119\n",
      "Epoch 37/40\n",
      "85/85 [==============================] - 23s 273ms/step - loss: 0.1061\n",
      "Epoch 38/40\n",
      "85/85 [==============================] - 29s 343ms/step - loss: 0.0863\n",
      "Epoch 39/40\n",
      "85/85 [==============================] - 25s 292ms/step - loss: 0.0795\n",
      "Epoch 40/40\n",
      "85/85 [==============================] - 23s 267ms/step - loss: 0.0769\n"
     ]
    },
    {
     "data": {
      "text/plain": "<keras.callbacks.History at 0x7ff788ba02b0>"
     },
     "execution_count": 6,
     "metadata": {},
     "output_type": "execute_result"
    }
   ],
   "source": [
    "model = keras.Sequential(\n",
    "    [\n",
    "        LSTM(256, input_shape=X.shape[1:], return_sequences=True),\n",
    "        Dropout(0.2),\n",
    "        LSTM(256),\n",
    "        Dense(y.shape[1], activation='softmax')\n",
    "    ]\n",
    ")\n",
    "model.compile(loss=\"categorical_crossentropy\", optimizer='adam')\n",
    "model.fit(X, y, batch_size=128, epochs=40)"
   ],
   "metadata": {
    "collapsed": false,
    "pycharm": {
     "name": "#%%\n"
    }
   }
  },
  {
   "cell_type": "code",
   "execution_count": 10,
   "outputs": [
    {
     "name": "stdout",
     "output_type": "stream",
     "text": [
      "Pattern = \" рэперских горлах взрывае\"\n",
      "тся порохом..я не дуцу прагоилая стибе икакак каракений.и..ри арий нарицару...ириши....ит.я ках тари"
     ]
    }
   ],
   "source": [
    "index = np.random.randint(0, n_sentences - 1)\n",
    "pattern = dataX[index]\n",
    "\n",
    "print('Pattern = \"' + pattern + '\"')\n",
    "for _ in range(100):\n",
    "    x = np.zeros((1, window_length, len(chars)))\n",
    "    for j, char in enumerate(pattern):\n",
    "        x[0, j, char2int[char]] = 1.0\n",
    "    preds = model.predict(x)\n",
    "    next_char = int2char[np.argmax(preds)]\n",
    "    pattern = pattern[1:] + next_char\n",
    "    print(str(next_char), end=\"\")"
   ],
   "metadata": {
    "collapsed": false,
    "pycharm": {
     "name": "#%%\n"
    }
   }
  },
  {
   "cell_type": "code",
   "execution_count": 11,
   "outputs": [],
   "source": [
    "markov_window_length = 5\n",
    "markov_dataX = []\n",
    "markov_dataY = []\n",
    "for sentence in text.split('.'):\n",
    "  sentence += '.'\n",
    "  for i in range(0, len(sentence) - markov_window_length):\n",
    "    markov_dataX.append(sentence[i:i + markov_window_length])\n",
    "    markov_dataY.append(sentence[i + markov_window_length])\n",
    "\n",
    "nodes = defaultdict(lambda: defaultdict(lambda: 0))\n",
    "for sentence, symbol in zip(markov_dataX, markov_dataY):\n",
    "  nodes[sentence][symbol] += 1"
   ],
   "metadata": {
    "collapsed": false,
    "pycharm": {
     "name": "#%%\n"
    }
   }
  },
  {
   "cell_type": "code",
   "execution_count": 22,
   "outputs": [
    {
     "name": "stdout",
     "output_type": "stream",
     "text": [
      "Pattern = \"бронз\"\n",
      "овый кейс прячет розовый кейс прячет розовый кейс прячет розовый кейс прячет розовый кейс прячет роз"
     ]
    }
   ],
   "source": [
    "index = np.random.randint(0, len(markov_dataX) - 1)\n",
    "\n",
    "pattern = markov_dataX[index]\n",
    "print('Pattern = \"' + pattern + '\"')\n",
    "for i in range(100):\n",
    "    next_chars_pool = [symbol for symbol in nodes[pattern]]\n",
    "    preds = np.array([w for w in nodes[pattern].values()])\n",
    "    preds = preds / preds.sum()\n",
    "    if len(preds) == 0:\n",
    "      break\n",
    "    next_char = next_chars_pool[np.argmax(preds)]\n",
    "    pattern = pattern[1:] + next_char\n",
    "    print(str(next_char), end='')"
   ],
   "metadata": {
    "collapsed": false,
    "pycharm": {
     "name": "#%%\n"
    }
   }
  },
  {
   "cell_type": "code",
   "execution_count": null,
   "outputs": [],
   "source": [],
   "metadata": {
    "collapsed": false,
    "pycharm": {
     "name": "#%%\n"
    }
   }
  }
 ],
 "metadata": {
  "kernelspec": {
   "display_name": "Python 3",
   "language": "python",
   "name": "python3"
  },
  "language_info": {
   "codemirror_mode": {
    "name": "ipython",
    "version": 2
   },
   "file_extension": ".py",
   "mimetype": "text/x-python",
   "name": "python",
   "nbconvert_exporter": "python",
   "pygments_lexer": "ipython2",
   "version": "2.7.6"
  }
 },
 "nbformat": 4,
 "nbformat_minor": 0
}